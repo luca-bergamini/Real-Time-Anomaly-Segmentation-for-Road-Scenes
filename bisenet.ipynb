{
  "cells": [
    {
      "cell_type": "code",
      "execution_count": null,
      "metadata": {
        "colab": {
          "base_uri": "https://localhost:8080/"
        },
        "id": "md3zzTLxXicA",
        "outputId": "0fea4a49-9116-47c9-ca09-2b6932fa8474"
      },
      "outputs": [],
      "source": [
        "from google.colab import drive\n",
        "drive.mount('/content/drive')"
      ]
    },
    {
      "cell_type": "code",
      "execution_count": null,
      "metadata": {
        "colab": {
          "base_uri": "https://localhost:8080/"
        },
        "id": "e55xtM5cZyRJ",
        "outputId": "30624dd9-dc98-49eb-df54-48c351fedcd6"
      },
      "outputs": [],
      "source": [
        "%cd /content\n",
        "!rm -rf Real-Time-Anomaly-Segmentation-for-Road-Scenes\n",
        "!git clone https://github.com/luca-bergamini/Real-Time-Anomaly-Segmentation-for-Road-Scenes.git\n",
        "%cd Real-Time-Anomaly-Segmentation-for-Road-Scenes\n"
      ]
    },
    {
      "cell_type": "code",
      "execution_count": null,
      "metadata": {},
      "outputs": [],
      "source": [
        "!git checkout feature-BiSeNet"
      ]
    },
    {
      "cell_type": "code",
      "execution_count": null,
      "metadata": {
        "colab": {
          "base_uri": "https://localhost:8080/"
        },
        "id": "4BkdptlNXra2",
        "outputId": "b380f682-9db6-4799-fc09-7d0b989167ba"
      },
      "outputs": [],
      "source": [
        "!pip3 install visdom\n",
        "!pip3 install ood_metrics\n",
        "!pip3 install torchvision"
      ]
    },
    {
      "cell_type": "markdown",
      "metadata": {
        "id": "ktpUXvC-q_39"
      },
      "source": [
        "##ERF-Net Inference"
      ]
    },
    {
      "cell_type": "code",
      "execution_count": null,
      "metadata": {
        "colab": {
          "base_uri": "https://localhost:8080/"
        },
        "id": "DqJXnbara724",
        "outputId": "d45297ce-3b14-4b52-ccbd-48af55e6eed6"
      },
      "outputs": [],
      "source": [
        "!python eval/evalAnomaly.py \\\n",
        "  --input \"/content/drive/MyDrive/Validation_Dataset/RoadAnomaly21/images/*.png\" \\\n",
        "  --loadDir \"./trained_models/\" \\\n",
        "  --loadWeights \"erfnet_pretrained.pth\" \\\n",
        "  --loadModel \"erfnet.py\" \\\n",
        "  --subset val \\\n",
        "  --datadir \"./data/cityscapes/\" \\\n",
        "  --batch-size 1 \\\n",
        "  --num-workers 4 \\\n",
        "  --method \"MSP\""
      ]
    },
    {
      "cell_type": "code",
      "execution_count": null,
      "metadata": {
        "id": "TCrMEpW9_-Gi"
      },
      "outputs": [],
      "source": [
        "input_paths = {\n",
        "    \"RoadAnomaly21\": \"/content/drive/MyDrive/Validation_Dataset/RoadAnomaly21/images/*.png\",\n",
        "    \"RoadObsticle21\": \"/content/drive/MyDrive/Validation_Dataset/RoadObsticle21/images/*.webp\",\n",
        "    \"fs_static\": \"/content/drive/MyDrive/Validation_Dataset/fs_static/images/*.jpg\",\n",
        "    \"FS_LostFound_full\": \"/content/drive/MyDrive/Validation_Dataset/FS_LostFound_full/images/*.png\",\n",
        "    \"RoadAnomaly\": \"/content/drive/MyDrive/Validation_Dataset/RoadAnomaly/images/*.jpg\"\n",
        "}\n",
        "\n",
        "methods = [\"MSP\", \"MaxLogit\", \"MaxEntropy\"]\n",
        "\n",
        "for dataset_name, input_path in input_paths.items():\n",
        "    print(f\"\\n Evaluating Dataset: {dataset_name}\")\n",
        "    print(\"=====================================\")\n",
        "    for method in methods:\n",
        "        print(f\"Method: {method}\")\n",
        "        !python3 eval/evalAnomaly.py \\\n",
        "            --input \"{input_path}\" \\\n",
        "            --loadDir \"./trained_models/\" \\\n",
        "            --loadWeights \"erfnet_pretrained.pth\" \\\n",
        "            --loadModel \"erfnet.py\" \\\n",
        "            --subset val \\\n",
        "            --datadir \"./data/cityscapes/\" \\\n",
        "            --batch-size 1 \\\n",
        "            --num-workers 4 \\\n",
        "            --method \"{method}\"\n",
        "        print(\"\\n\")"
      ]
    },
    {
      "cell_type": "code",
      "execution_count": null,
      "metadata": {},
      "outputs": [],
      "source": [
        "model = 'bisenet'\n",
        "dir = f'/content/Real-Time-Anomaly-Segmentation-for-Road-Scenes/eval/bisenetv1_pretrained.pth'\n",
        "!cd \"/content/Real-Time-Anomaly-Segmentation-for-Road-Scenes/\" && python -W ignore /content/Real-Time-Anomaly-Segmentation-for-Road-Scenes/train/main.py --state {dir} --datadir '/content/cityscapes/' --model {model} --savedir '/content/training_output_bisenet/' --num-epochs=20 --epochs-save=1"
      ]
    }
  ],
  "metadata": {
    "accelerator": "GPU",
    "colab": {
      "gpuType": "T4",
      "provenance": []
    },
    "kernelspec": {
      "display_name": "Python 3",
      "name": "python3"
    },
    "language_info": {
      "name": "python"
    }
  },
  "nbformat": 4,
  "nbformat_minor": 0
}
